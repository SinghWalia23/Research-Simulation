{
 "cells": [
  {
   "cell_type": "code",
   "execution_count": 1,
   "id": "ea1860dd-4d74-4dbe-aa64-053091a9ec15",
   "metadata": {},
   "outputs": [],
   "source": [
    "import matplotlib.pyplot as plt\n",
    "import numpy as np\n",
    "from numpy import log\n",
    "import shutil\n",
    "import sys\n",
    "import os.path\n",
    "#from pyomo.environ import *\n",
    "import pyomo.environ as pe\n",
    "import pyomo.opt as po"
   ]
  },
  {
   "cell_type": "code",
   "execution_count": 2,
   "id": "939d2cbf-6a82-4c31-a70a-ea322e36653e",
   "metadata": {},
   "outputs": [],
   "source": [
    "m = pe.ConcreteModel()"
   ]
  },
  {
   "cell_type": "code",
   "execution_count": 3,
   "id": "69b77d2b-ee74-42cd-8b1f-7a54c3b0945b",
   "metadata": {},
   "outputs": [],
   "source": [
    "m.u = pe.Var(domain=pe.NonNegativeReals)\n",
    "m.neta = pe.Var(domain=pe.Reals)"
   ]
  },
  {
   "cell_type": "code",
   "execution_count": 4,
   "id": "88b26307-43c2-4b04-999b-b9b38578ba75",
   "metadata": {},
   "outputs": [],
   "source": [
    "obj_expr = m.neta\n",
    "m.obj = pe.Objective(sense=pe.minimize, expr=obj_expr)"
   ]
  },
  {
   "cell_type": "code",
   "execution_count": 5,
   "id": "df37b1f5-2637-49f2-a287-89b32be1b4f3",
   "metadata": {},
   "outputs": [
    {
     "data": {
      "text/plain": [
       "<pyomo.core.base.constraint._GeneralConstraintData at 0x107a59600>"
      ]
     },
     "execution_count": 5,
     "metadata": {},
     "output_type": "execute_result"
    }
   ],
   "source": [
    "m.con_list = pe.ConstraintList()\n",
    "m.con_list.add(m.neta >= 10 + 8*m.u)\n",
    "m.con_list.add(m.neta >= 20 - 2*m.u)"
   ]
  },
  {
   "cell_type": "code",
   "execution_count": 6,
   "id": "3003cae3-eca3-4fbf-8740-4927d06a3fcd",
   "metadata": {},
   "outputs": [
    {
     "name": "stdout",
     "output_type": "stream",
     "text": [
      "Set parameter Username\n",
      "Academic license - for non-commercial use only - expires 2025-01-25\n",
      "Read LP format model from file /var/folders/kk/630d4n695dd9k2gbbmxbrcbc0000gp/T/tmpf9h9_r8o.pyomo.lp\n",
      "Reading time = 0.00 seconds\n",
      "x1: 2 rows, 2 columns, 4 nonzeros\n",
      "Gurobi Optimizer version 11.0.0 build v11.0.0rc2 (mac64[arm] - Darwin 23.2.0 23C71)\n",
      "\n",
      "CPU model: Apple M3 Max\n",
      "Thread count: 14 physical cores, 14 logical processors, using up to 14 threads\n",
      "\n",
      "Optimize a model with 2 rows, 2 columns and 4 nonzeros\n",
      "Model fingerprint: 0x5560e4a4\n",
      "Coefficient statistics:\n",
      "  Matrix range     [1e+00, 8e+00]\n",
      "  Objective range  [1e+00, 1e+00]\n",
      "  Bounds range     [0e+00, 0e+00]\n",
      "  RHS range        [1e+01, 2e+01]\n",
      "Presolve removed 2 rows and 2 columns\n",
      "Presolve time: 0.00s\n",
      "Presolve: All rows and columns removed\n",
      "Iteration    Objective       Primal Inf.    Dual Inf.      Time\n",
      "       0    1.8000000e+01   0.000000e+00   0.000000e+00      0s\n",
      "\n",
      "Solved in 0 iterations and 0.00 seconds (0.00 work units)\n",
      "Optimal objective  1.800000000e+01\n"
     ]
    }
   ],
   "source": [
    "solver = po.SolverFactory('gurobi')\n",
    "results = solver.solve(m, tee=True)"
   ]
  },
  {
   "cell_type": "code",
   "execution_count": 7,
   "id": "698be9e2-8240-42ba-ac52-56169081b363",
   "metadata": {},
   "outputs": [
    {
     "data": {
      "text/plain": [
       "18.0"
      ]
     },
     "execution_count": 7,
     "metadata": {},
     "output_type": "execute_result"
    }
   ],
   "source": [
    "pe.value(m.neta)"
   ]
  },
  {
   "cell_type": "code",
   "execution_count": 8,
   "id": "2bf51362-265f-4f3a-9c90-10ec6e80ffa6",
   "metadata": {},
   "outputs": [
    {
     "data": {
      "text/plain": [
       "1.0"
      ]
     },
     "execution_count": 8,
     "metadata": {},
     "output_type": "execute_result"
    }
   ],
   "source": [
    "pe.value(m.u)"
   ]
  }
 ],
 "metadata": {
  "kernelspec": {
   "display_name": "Python 3 (ipykernel)",
   "language": "python",
   "name": "python3"
  },
  "language_info": {
   "codemirror_mode": {
    "name": "ipython",
    "version": 3
   },
   "file_extension": ".py",
   "mimetype": "text/x-python",
   "name": "python",
   "nbconvert_exporter": "python",
   "pygments_lexer": "ipython3",
   "version": "3.11.7"
  }
 },
 "nbformat": 4,
 "nbformat_minor": 5
}
