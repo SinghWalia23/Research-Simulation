{
 "cells": [
  {
   "cell_type": "code",
   "execution_count": 184,
   "id": "b70b3b3d-b8a0-40eb-840c-1c033989c2ad",
   "metadata": {},
   "outputs": [],
   "source": [
    "import matplotlib.pyplot as plt\n",
    "import numpy as np\n",
    "from numpy import log\n",
    "import shutil\n",
    "import sys\n",
    "import os.path\n",
    "#from pyomo.environ import *\n",
    "import pyomo.environ as pe\n",
    "import pyomo.opt as po\n",
    "\n",
    "import logging\n",
    "# Suppress specific warning\n",
    "logging.getLogger('pyomo.core').setLevel(logging.ERROR)\n",
    "import warnings\n",
    "\n",
    "# Suppress all warnings\n",
    "warnings.filterwarnings(\"ignore\", category=DeprecationWarning) \n",
    "\n",
    "import shutup\n",
    "shutup.please()"
   ]
  },
  {
   "cell_type": "code",
   "execution_count": 185,
   "id": "54d3e662-2ba8-4247-a10c-42498824ecb7",
   "metadata": {},
   "outputs": [],
   "source": [
    "m = pe.ConcreteModel()"
   ]
  },
  {
   "cell_type": "code",
   "execution_count": 186,
   "id": "55ccdf18-8bae-4e36-9110-08482a779e0e",
   "metadata": {},
   "outputs": [],
   "source": [
    "# Defining data\n",
    "\n",
    "m.M = pe.RangeSet(1,8)\n",
    "m.J = pe.RangeSet(1,24)\n",
    "\n",
    "data = [36, 35, 38, 34, 32, 34, 31, 34]\n",
    "# Create a dictionary with keys from 1 to 8 and corresponding values from list b\n",
    "b = {i: data[i-1] for i in m.M}"
   ]
  },
  {
   "cell_type": "code",
   "execution_count": 187,
   "id": "38ec7802-30ef-4bbc-b9f4-714e1c7e6482",
   "metadata": {},
   "outputs": [],
   "source": [
    "data = [\n",
    "    25, 23, 20, 16, 19, 22, 20, 16, 15, 22, 15, 21, 20, 23, 20, 22, 19, 25, 25, 24, 21, 17, 23, 17,\n",
    "    16, 19, 22, 22, 19, 23, 17, 24, 15, 24, 18, 19, 20, 24, 25, 25, 19, 24, 18, 21, 16, 25, 15, 20,\n",
    "    20, 18, 23, 23, 23, 17, 19, 16, 24, 24, 17, 23, 19, 22, 23, 25, 23, 18, 19, 24, 20, 17, 23, 23,\n",
    "    16, 16, 15, 23, 15, 15, 25, 22, 17, 20, 19, 16, 17, 17, 20, 17, 17, 18, 16, 18, 15, 25, 22, 17,\n",
    "    17, 23, 21, 20, 24, 22, 25, 17, 22, 20, 16, 22, 21, 23, 24, 15, 22, 25, 18, 19, 19, 17, 22, 23,\n",
    "    24, 21, 23, 17, 21, 19, 19, 17, 18, 24, 15, 15, 17, 18, 15, 24, 19, 21, 23, 24, 17, 20, 16, 21,\n",
    "    18, 21, 22, 23, 22, 15, 18, 15, 21, 22, 15, 23, 21, 25, 25, 23, 20, 16, 25, 17, 15, 15, 18, 16,\n",
    "    19, 24, 18, 17, 21, 18, 24, 25, 18, 23, 21, 15, 24, 23, 18, 18, 23, 23, 16, 20, 20, 19, 25, 21\n",
    "]\n",
    "\n",
    "# Define the dictionary\n",
    "c = {}\n",
    "\n",
    "# Populate the dictionary\n",
    "index = 0\n",
    "for i in range(1, 9):\n",
    "    for j in range(1, 25):\n",
    "        c[(i, j)] = data[index]\n",
    "        index += 1  \n",
    "##################\n",
    "data = [\n",
    "    8, 18, 22, 5, 11, 11, 22, 11, 17, 22, 11, 20, 13, 13, 7, 22, 15, 22, 24, 8, 8, 24, 18, 8,\n",
    "    24, 14, 11, 15, 24, 8, 10, 15, 19, 25, 6, 13, 10, 25, 19, 24, 13, 12, 5, 18, 10, 24, 8, 5,\n",
    "    22, 22, 21, 22, 13, 16, 21, 5, 25, 13, 12, 9, 24, 6, 22, 24, 11, 21, 11, 14, 12, 10, 20, 6,\n",
    "    13, 8, 19, 12, 19, 18, 10, 21, 5, 9, 11, 9, 22, 8, 12, 13, 9, 25, 19, 24, 22, 6, 19, 14,\n",
    "    25, 16, 13, 5, 11, 8, 7, 8, 25, 20, 24, 20, 11, 6, 10, 10, 6, 22, 10, 10, 13, 21, 5, 19,\n",
    "    19, 19, 5, 11, 22, 24, 18, 11, 6, 13, 24, 24, 22, 6, 22, 5, 14, 6, 16, 11, 6, 8, 18, 10,\n",
    "    24, 10, 9, 10, 6, 15, 7, 13, 20, 8, 7, 9, 24, 9, 21, 9, 11, 19, 10, 5, 23, 20, 5, 21, 6,\n",
    "    9, 9, 5, 12, 10, 16, 15, 19, 18, 20, 18, 16, 21, 11, 12, 22, 16, 21, 25, 7, 14, 16, 10\n",
    "]\n",
    "# Define the dictionary\n",
    "a = {}\n",
    "# Populate the dictionary\n",
    "index = 0\n",
    "for i in range(1, 9):\n",
    "    for j in range(1, 25):\n",
    "        a[(i, j)] = data[index]\n",
    "        index += 1"
   ]
  },
  {
   "cell_type": "code",
   "execution_count": 188,
   "id": "168ceb92-9aff-4a7b-8ea7-d24834defe64",
   "metadata": {},
   "outputs": [],
   "source": [
    "# Initialising\n",
    "m.b = pe.Param(m.M, initialize=b)\n",
    "m.c = pe.Param(m.M,m.J, initialize=c)\n",
    "m.a = pe.Param(m.M,m.J, initialize=a)\n",
    "#m.lda = pe.Param(m.J)\n",
    "# lambda\n",
    "l = [10 for j in m.J]\n",
    "lam = {j: l[j-1] for j in m.J}"
   ]
  },
  {
   "cell_type": "code",
   "execution_count": 190,
   "id": "8c13a846-e3f5-4a8a-8cb8-5c377eb48c37",
   "metadata": {},
   "outputs": [],
   "source": [
    "# defining variable\n",
    "m.x = pe.Var(m.M,m.J, domain=pe.Binary)"
   ]
  },
  {
   "cell_type": "code",
   "execution_count": 191,
   "id": "5ef50f44-9928-4f95-9c16-ddade1f8fc20",
   "metadata": {},
   "outputs": [],
   "source": [
    "# def ObjRule(model):\n",
    "#     return 2*model.x[1] + 3*model.x[2]\n",
    "# model.obj1 = pyo.Objective(rule=ObjRule)\n",
    "def objective_rule(m):\n",
    "    val = sum(m.lda[j] for j in m.J) + sum(sum((m.c[i,j] - m.lda[j])*m.x[i,j] for j in m.J) for i in  m.M )\n",
    "    return val\n",
    "#m.obj = pe.Objective(rule=objective_rule,sense=pe.maximize)"
   ]
  },
  {
   "cell_type": "code",
   "execution_count": 192,
   "id": "d650cb3a-7502-48d9-bf9c-00087148de47",
   "metadata": {},
   "outputs": [],
   "source": [
    "# constraints\n",
    "def kp_rule(m,i):\n",
    "    return sum(m.a[i,j]*m.x[i,j] for j in m.J) <= m.b[i]\n",
    "#m.kp = pe.Constraint(m.M,rule=kp_rule)    "
   ]
  },
  {
   "cell_type": "code",
   "execution_count": 193,
   "id": "691dca2e-36a2-40a8-8e63-6ff0cc31ae46",
   "metadata": {},
   "outputs": [],
   "source": [
    "# this function gives optimum value of x for a particular lambda_k\n",
    "def opt_x(m,lam):\n",
    "    #lam = {j: l[j-1] for j in m.J}\n",
    "    #lam = ltodict(l)\n",
    "    m.lda = pe.Param(m.J, initialize=lam)\n",
    "    m.obj = pe.Objective(rule=objective_rule,sense=pe.maximize)\n",
    "    m.kp = pe.Constraint(m.M,rule=kp_rule) \n",
    "    solver = po.SolverFactory('gurobi')\n",
    "    results = solver.solve(m,tee=False)\n",
    "    #print(pe.value(m.obj))"
   ]
  },
  {
   "cell_type": "code",
   "execution_count": 194,
   "id": "a7a36ede-c9f7-4d1f-885a-c6cf85ded787",
   "metadata": {},
   "outputs": [],
   "source": [
    "opt_x(m,lam)"
   ]
  },
  {
   "cell_type": "code",
   "execution_count": 195,
   "id": "4dfb9d6b-06b9-4095-8989-43bec1904dc8",
   "metadata": {},
   "outputs": [],
   "source": [
    "# Now, we have x^k for a particular lambda^k\n",
    "\n",
    "# Further, Now\n",
    "# At this point, one could check how many (out of j) of MC constraints does the problem NOT satisfy\n",
    "\n",
    "# If the not satisfying answer is zero, this means: The Lagrg Solution is feasible for Primal.\n",
    "def mc_const_count(m):\n",
    "    it =0\n",
    "    for j in m.J:\n",
    "        if((sum(pe.value(m.x[i,j]) for i in m.M)) ==1):\n",
    "            it = it+1\n",
    "    it = 24 - it\n",
    "    return it"
   ]
  },
  {
   "cell_type": "code",
   "execution_count": 196,
   "id": "047ab652-20c8-4ad6-bebe-43df8ce5818f",
   "metadata": {},
   "outputs": [
    {
     "name": "stdout",
     "output_type": "stream",
     "text": [
      "No. of MC constraints (out of 24) not satisfied = 14 \n",
      " Thus, Langrangian solution is not feasible for Primal.\n"
     ]
    }
   ],
   "source": [
    "cmc = mc_const_count(m)\n",
    "print(\"No. of MC constraints (out of 24) not satisfied =\",cmc,'\\n Thus, Langrangian solution is not feasible for Primal.')"
   ]
  },
  {
   "cell_type": "code",
   "execution_count": 197,
   "id": "bbb882ce-3099-4012-ab0a-46c36778cb54",
   "metadata": {},
   "outputs": [],
   "source": [
    "# Implementing Sub-gradient Optimisation \n",
    "\n",
    "                ##### METHOD 1 #####\n",
    "# 1. Using known value of Optimal Solution i.e. Neta^*\n",
    "\n",
    "                ##### METHOD 2 ##### \n",
    "# 2. Intially Neta^* = 0 (set as 0)- then update the value on those iteartions in which the lagrangian problem \n",
    "# turns out to be feasible in the original problem (Primal Problem)"
   ]
  },
  {
   "cell_type": "code",
   "execution_count": 198,
   "id": "c0acddfc-5cd5-4c64-acf1-c8bd62a35af9",
   "metadata": {},
   "outputs": [],
   "source": [
    "                #### METHOD 1 #####\n",
    "\n",
    "opt = 563\n",
    "neta = 673\n",
    "eps = 1e-3\n",
    "it =0\n",
    "while (it < 1000):\n",
    "    arrl = np.array(l)\n",
    "    s=[]                  # Finding s^k as List\n",
    "    for j in m.J:\n",
    "        v = 1 - sum(pe.value(m.x[i,j]) for i in m.M)\n",
    "        s.append(v)\n",
    "    arrs = np.array(s)    # Converting s^k to Numpy Array\n",
    "    norms = np.linalg.norm(arrs)**2\n",
    "    addterm = arrs*(opt-neta)/norms\n",
    "    ln = arrl + addterm\n",
    "    ln = ln.tolist()\n",
    "    l = ln\n",
    "    lam = {j: l[j-1] for j in m.J}\n",
    "    # Update Objective and x-values\n",
    "    opt_x(m,lam)\n",
    "    neta = pe.value(m.obj)\n",
    "    it = it+1\n"
   ]
  },
  {
   "cell_type": "code",
   "execution_count": 200,
   "id": "ecb92b26-a69d-4c12-9a88-6fca973471d7",
   "metadata": {},
   "outputs": [
    {
     "name": "stdout",
     "output_type": "stream",
     "text": [
      "Objective after 1000 iterations = 564.9999999999998 \n",
      "\n",
      "Final No. of MC constraints (out of 24) not satisfied = 7 \n",
      " Thus, Langrangian solution is not feasible for Primal.\n"
     ]
    }
   ],
   "source": [
    "print(\"Objective after 1000 iterations =\",neta,'\\n')\n",
    "cmc = mc_const_count(m)\n",
    "print(\"Final No. of MC constraints (out of 24) not satisfied =\",cmc,'\\n Thus, Langrangian solution is not feasible for Primal.')"
   ]
  },
  {
   "cell_type": "code",
   "execution_count": null,
   "id": "486d36d4-a998-467a-b9a4-9d8e5c435950",
   "metadata": {},
   "outputs": [],
   "source": []
  },
  {
   "cell_type": "code",
   "execution_count": null,
   "id": "91c51628-cbef-4337-9269-d01ff68a55b7",
   "metadata": {},
   "outputs": [],
   "source": []
  },
  {
   "cell_type": "code",
   "execution_count": null,
   "id": "ab077060-aad2-4bd0-8804-6b7415fd2081",
   "metadata": {},
   "outputs": [],
   "source": []
  },
  {
   "cell_type": "code",
   "execution_count": null,
   "id": "90084e9c-d353-4912-a82a-755801831243",
   "metadata": {},
   "outputs": [],
   "source": []
  },
  {
   "cell_type": "code",
   "execution_count": 51,
   "id": "90976007-6374-474e-9a90-94f15138a9ae",
   "metadata": {},
   "outputs": [
    {
     "name": "stdout",
     "output_type": "stream",
     "text": [
      "All possible solutions:\n"
     ]
    }
   ],
   "source": [
    "from pyomo.environ import *\n",
    "\n",
    "# Create a concrete model\n",
    "model = ConcreteModel()\n",
    "\n",
    "# Define the variables\n",
    "model.x = Var(within=Binary)\n",
    "\n",
    "# Define the objective function (if any)\n",
    "# model.obj = Objective(expr=...)\n",
    "\n",
    "# Define the binary linear inequality constraint\n",
    "def binary_linear_inequality_rule(model):\n",
    "    return model.x <= 1\n",
    "\n",
    "model.binary_linear_inequality = Constraint(rule=binary_linear_inequality_rule)\n",
    "\n",
    "# Create a solver\n",
    "solver = SolverFactory('glpk')\n",
    "\n",
    "# Create a list to store all possible solutions\n",
    "all_solutions = []\n",
    "\n",
    "# Iterate through all possible binary values for the variable\n",
    "for binary_value in [0, 1]:\n",
    "    # Set the initial value of the variable\n",
    "    model.x = binary_value\n",
    "\n",
    "    # Solve the model\n",
    "    solver.solve(model)\n",
    "\n",
    "    # Check if the solution is feasible\n",
    "    if model.binary_linear_inequality():\n",
    "        # Store the feasible solution\n",
    "        all_solutions.append(model.x())\n",
    "\n",
    "# Print all possible solutions\n",
    "print(\"All possible solutions:\")\n",
    "for solution in all_solutions:\n",
    "    print(\"x =\", solution)\n"
   ]
  },
  {
   "cell_type": "code",
   "execution_count": null,
   "id": "bc2a8215-dcac-4bda-b232-32190bfb2dfd",
   "metadata": {},
   "outputs": [],
   "source": []
  },
  {
   "cell_type": "code",
   "execution_count": null,
   "id": "45c41dc3-241e-4171-858b-9133169920f0",
   "metadata": {},
   "outputs": [],
   "source": []
  },
  {
   "cell_type": "code",
   "execution_count": null,
   "id": "49e8742f-4309-48f7-918c-8d0b6089b37e",
   "metadata": {},
   "outputs": [],
   "source": []
  },
  {
   "cell_type": "code",
   "execution_count": null,
   "id": "3a025a20-7633-4645-a435-92a555a2e631",
   "metadata": {},
   "outputs": [],
   "source": []
  },
  {
   "cell_type": "code",
   "execution_count": null,
   "id": "284576f0-5b95-4da4-ab55-bdede4e7fd49",
   "metadata": {},
   "outputs": [],
   "source": []
  },
  {
   "cell_type": "code",
   "execution_count": null,
   "id": "12559991-afd8-4613-92eb-b994d7940d5c",
   "metadata": {},
   "outputs": [],
   "source": []
  }
 ],
 "metadata": {
  "kernelspec": {
   "display_name": "Python 3 (ipykernel)",
   "language": "python",
   "name": "python3"
  },
  "language_info": {
   "codemirror_mode": {
    "name": "ipython",
    "version": 3
   },
   "file_extension": ".py",
   "mimetype": "text/x-python",
   "name": "python",
   "nbconvert_exporter": "python",
   "pygments_lexer": "ipython3",
   "version": "3.11.7"
  }
 },
 "nbformat": 4,
 "nbformat_minor": 5
}
