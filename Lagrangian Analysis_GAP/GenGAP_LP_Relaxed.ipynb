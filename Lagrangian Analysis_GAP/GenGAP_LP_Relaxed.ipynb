{
 "cells": [
  {
   "cell_type": "code",
   "execution_count": 3,
   "id": "32f8aaf8-7979-48c2-9d87-668ec955b168",
   "metadata": {},
   "outputs": [],
   "source": [
    "import matplotlib.pyplot as plt\n",
    "import numpy as np\n",
    "from numpy import log\n",
    "import shutil\n",
    "import sys\n",
    "import os.path\n",
    "#from pyomo.environ import *\n",
    "import pyomo.environ as pe\n",
    "import pyomo.opt as po"
   ]
  },
  {
   "cell_type": "code",
   "execution_count": 4,
   "id": "aacc55ec-7c2d-4355-ad64-4abe21cf231d",
   "metadata": {},
   "outputs": [],
   "source": [
    "m = pe.ConcreteModel()"
   ]
  },
  {
   "cell_type": "code",
   "execution_count": 5,
   "id": "eded3720-8888-4967-832e-54c9cffbc060",
   "metadata": {},
   "outputs": [],
   "source": [
    "# Defining data\n",
    "\n",
    "m.M = pe.RangeSet(1,8)\n",
    "m.J = pe.RangeSet(1,24)\n",
    "\n",
    "data = [36, 35, 38, 34, 32, 34, 31, 34]\n",
    "# Create a dictionary with keys from 1 to 8 and corresponding values from list b\n",
    "b = {i: data[i-1] for i in m.M}"
   ]
  },
  {
   "cell_type": "code",
   "execution_count": 6,
   "id": "84221c44-1d7f-4426-9038-303ea9cf05c7",
   "metadata": {},
   "outputs": [],
   "source": [
    "data = [\n",
    "    25, 23, 20, 16, 19, 22, 20, 16, 15, 22, 15, 21, 20, 23, 20, 22, 19, 25, 25, 24, 21, 17, 23, 17,\n",
    "    16, 19, 22, 22, 19, 23, 17, 24, 15, 24, 18, 19, 20, 24, 25, 25, 19, 24, 18, 21, 16, 25, 15, 20,\n",
    "    20, 18, 23, 23, 23, 17, 19, 16, 24, 24, 17, 23, 19, 22, 23, 25, 23, 18, 19, 24, 20, 17, 23, 23,\n",
    "    16, 16, 15, 23, 15, 15, 25, 22, 17, 20, 19, 16, 17, 17, 20, 17, 17, 18, 16, 18, 15, 25, 22, 17,\n",
    "    17, 23, 21, 20, 24, 22, 25, 17, 22, 20, 16, 22, 21, 23, 24, 15, 22, 25, 18, 19, 19, 17, 22, 23,\n",
    "    24, 21, 23, 17, 21, 19, 19, 17, 18, 24, 15, 15, 17, 18, 15, 24, 19, 21, 23, 24, 17, 20, 16, 21,\n",
    "    18, 21, 22, 23, 22, 15, 18, 15, 21, 22, 15, 23, 21, 25, 25, 23, 20, 16, 25, 17, 15, 15, 18, 16,\n",
    "    19, 24, 18, 17, 21, 18, 24, 25, 18, 23, 21, 15, 24, 23, 18, 18, 23, 23, 16, 20, 20, 19, 25, 21\n",
    "]\n",
    "\n",
    "# Define the dictionary\n",
    "c = {}\n",
    "\n",
    "# Populate the dictionary\n",
    "index = 0\n",
    "for i in range(1, 9):\n",
    "    for j in range(1, 25):\n",
    "        c[(i, j)] = data[index]\n",
    "        index += 1  \n",
    "##################\n",
    "data = [\n",
    "    8, 18, 22, 5, 11, 11, 22, 11, 17, 22, 11, 20, 13, 13, 7, 22, 15, 22, 24, 8, 8, 24, 18, 8,\n",
    "    24, 14, 11, 15, 24, 8, 10, 15, 19, 25, 6, 13, 10, 25, 19, 24, 13, 12, 5, 18, 10, 24, 8, 5,\n",
    "    22, 22, 21, 22, 13, 16, 21, 5, 25, 13, 12, 9, 24, 6, 22, 24, 11, 21, 11, 14, 12, 10, 20, 6,\n",
    "    13, 8, 19, 12, 19, 18, 10, 21, 5, 9, 11, 9, 22, 8, 12, 13, 9, 25, 19, 24, 22, 6, 19, 14,\n",
    "    25, 16, 13, 5, 11, 8, 7, 8, 25, 20, 24, 20, 11, 6, 10, 10, 6, 22, 10, 10, 13, 21, 5, 19,\n",
    "    19, 19, 5, 11, 22, 24, 18, 11, 6, 13, 24, 24, 22, 6, 22, 5, 14, 6, 16, 11, 6, 8, 18, 10,\n",
    "    24, 10, 9, 10, 6, 15, 7, 13, 20, 8, 7, 9, 24, 9, 21, 9, 11, 19, 10, 5, 23, 20, 5, 21, 6,\n",
    "    9, 9, 5, 12, 10, 16, 15, 19, 18, 20, 18, 16, 21, 11, 12, 22, 16, 21, 25, 7, 14, 16, 10\n",
    "]\n",
    "# Define the dictionary\n",
    "a = {}\n",
    "# Populate the dictionary\n",
    "index = 0\n",
    "for i in range(1, 9):\n",
    "    for j in range(1, 25):\n",
    "        a[(i, j)] = data[index]\n",
    "        index += 1"
   ]
  },
  {
   "cell_type": "code",
   "execution_count": 7,
   "id": "8937dccc-12c3-46c3-a894-3787cb5605a6",
   "metadata": {},
   "outputs": [],
   "source": [
    "# Initialising\n",
    "m.b = pe.Param(m.M, initialize=b)\n",
    "m.c = pe.Param(m.M,m.J, initialize=c)\n",
    "m.a = pe.Param(m.M,m.J, initialize=a)"
   ]
  },
  {
   "cell_type": "code",
   "execution_count": 8,
   "id": "7a6bb4e8-edf7-401d-b5a9-0659f54c1018",
   "metadata": {},
   "outputs": [],
   "source": [
    "# defining variable\n",
    "m.x = pe.Var(m.M,m.J,domain=pe.NonNegativeReals, bounds=(0, 1))"
   ]
  },
  {
   "cell_type": "code",
   "execution_count": 9,
   "id": "79bb4f32-bf99-4485-b74b-2654b6d42d09",
   "metadata": {},
   "outputs": [],
   "source": [
    "# objective\n",
    "obj_expr = sum(m.c[i,j]*m.x[i,j] for i in m.M for j in m.J)\n",
    "m.obj = pe.Objective(sense=pe.maximize, expr=obj_expr)"
   ]
  },
  {
   "cell_type": "code",
   "execution_count": 10,
   "id": "5fdd3a09-5b32-4029-adf6-d944e674b5d8",
   "metadata": {},
   "outputs": [],
   "source": [
    "# constraints\n",
    "def kp_rule(m,i):\n",
    "    return sum(m.a[i,j]*m.x[i,j] for j in m.J) <= m.b[i]\n",
    "m.kp = pe.Constraint(m.M,rule=kp_rule)    \n",
    "\n",
    "def mc_rule(m,j):\n",
    "    return sum(m.x[i,j] for i in m.M) == 1\n",
    "m.mc = pe.Constraint(m.J,rule=mc_rule)"
   ]
  },
  {
   "cell_type": "code",
   "execution_count": 11,
   "id": "e045dfb1-8688-4895-aab8-ec93dc57cbbe",
   "metadata": {},
   "outputs": [
    {
     "name": "stdout",
     "output_type": "stream",
     "text": [
      "Set parameter Username\n",
      "Academic license - for non-commercial use only - expires 2025-01-25\n",
      "Read LP format model from file /var/folders/kk/630d4n695dd9k2gbbmxbrcbc0000gp/T/tmpajsg9k_p.pyomo.lp\n",
      "Reading time = 0.00 seconds\n",
      "x1: 32 rows, 192 columns, 384 nonzeros\n",
      "Gurobi Optimizer version 11.0.0 build v11.0.0rc2 (mac64[arm] - Darwin 23.2.0 23C71)\n",
      "\n",
      "CPU model: Apple M3 Max\n",
      "Thread count: 14 physical cores, 14 logical processors, using up to 14 threads\n",
      "\n",
      "Optimize a model with 32 rows, 192 columns and 384 nonzeros\n",
      "Model fingerprint: 0x68755abf\n",
      "Coefficient statistics:\n",
      "  Matrix range     [1e+00, 2e+01]\n",
      "  Objective range  [2e+01, 2e+01]\n",
      "  Bounds range     [1e+00, 1e+00]\n",
      "  RHS range        [1e+00, 4e+01]\n",
      "Presolve time: 0.00s\n",
      "Presolved: 32 rows, 192 columns, 384 nonzeros\n",
      "\n",
      "Iteration    Objective       Primal Inf.    Dual Inf.      Time\n",
      "       0    5.7400000e+02   2.587500e+01   0.000000e+00      0s\n",
      "      18    5.6864635e+02   0.000000e+00   0.000000e+00      0s\n",
      "\n",
      "Solved in 18 iterations and 0.00 seconds (0.00 work units)\n",
      "Optimal objective  5.686463503e+02\n"
     ]
    }
   ],
   "source": [
    "#Solve and Postprocess\n",
    "solver = po.SolverFactory('gurobi')\n",
    "results = solver.solve(m,tee=True)"
   ]
  },
  {
   "cell_type": "code",
   "execution_count": 12,
   "id": "bc7de178-58a2-4f61-9dd1-3598085d5673",
   "metadata": {},
   "outputs": [
    {
     "name": "stdout",
     "output_type": "stream",
     "text": [
      "568.6463503411708\n"
     ]
    }
   ],
   "source": [
    "print(pe.value(m.obj))"
   ]
  },
  {
   "cell_type": "code",
   "execution_count": 13,
   "id": "1f80da25-d010-4516-bf85-877919c0e326",
   "metadata": {},
   "outputs": [
    {
     "name": "stdout",
     "output_type": "stream",
     "text": [
      "Job  1  is done by machine 1 thus: x[ 1 , 1 ]= 1.0\n",
      "Job  2  is done by machine 8 thus: x[ 8 , 2 ]= 1.0\n",
      "Job  3  is done by machine 6 thus: x[ 6 , 3 ]= 1.0\n",
      "Job  4  is done by machine 4 thus: x[ 4 , 4 ]= 1.0\n",
      "Job  5  is done by machine 5 thus: x[ 5 , 5 ]= 1.0\n",
      "Job  6  is done by machine 2 thus: x[ 2 , 6 ]= 1.0\n",
      "Job  7  is partially done by machine 4 thus: x[ 4 , 7 ]= 0.5\n",
      "Job  7  is partially done by machine 5 thus: x[ 5 , 7 ]= 0.5\n",
      "Job  8  is done by machine 2 thus: x[ 2 , 8 ]= 1.0\n",
      "Job  9  is done by machine 3 thus: x[ 3 , 9 ]= 1.0\n",
      "Job  10  is done by machine 6 thus: x[ 6 , 10 ]= 1.0\n",
      "Job  11  is done by machine 4 thus: x[ 4 , 11 ]= 1.0\n",
      "Job  12  is done by machine 7 thus: x[ 7 , 12 ]= 1.0\n",
      "Job  13  is done by machine 8 thus: x[ 8 , 13 ]= 1.0\n",
      "Job  14  is done by machine 7 thus: x[ 7 , 14 ]= 1.0\n",
      "Job  15  is partially done by machine 2 thus: x[ 2 , 15 ]= 0.631578947368421\n",
      "Job  15  is partially done by machine 5 thus: x[ 5 , 15 ]= 0.22556390977443613\n",
      "Job  15  is partially done by machine 7 thus: x[ 7 , 15 ]= 0.14285714285714285\n",
      "Job  16  is done by machine 6 thus: x[ 6 , 16 ]= 1.0\n",
      "Job  17  is partially done by machine 3 thus: x[ 3 , 17 ]= 0.7469142509452823\n",
      "Job  17  is partially done by machine 5 thus: x[ 5 , 17 ]= 0.2530857490547177\n",
      "Job  18  is partially done by machine 1 thus: x[ 1 , 18 ]= 0.5511363636363636\n",
      "Job  18  is partially done by machine 5 thus: x[ 5 , 18 ]= 0.44886363636363635\n",
      "Job  19  is done by machine 7 thus: x[ 7 , 19 ]= 1.0\n",
      "Job  20  is done by machine 6 thus: x[ 6 , 20 ]= 1.0\n",
      "Job  21  is done by machine 1 thus: x[ 1 , 21 ]= 1.0\n",
      "Job  22  is done by machine 4 thus: x[ 4 , 22 ]= 1.0\n",
      "Job  23  is partially done by machine 1 thus: x[ 1 , 23 ]= 0.4375\n",
      "Job  23  is partially done by machine 8 thus: x[ 8 , 23 ]= 0.5625\n",
      "Job  24  is partially done by machine 3 thus: x[ 3 , 24 ]= 0.7973238732669825\n",
      "Job  24  is partially done by machine 5 thus: x[ 5 , 24 ]= 0.2026761267330175\n"
     ]
    }
   ],
   "source": [
    "for j in m.J:\n",
    "    for i in m.M:\n",
    "        if (pe.value(m.x[i,j]) >0):\n",
    "            if (pe.value(m.x[i,j]) < 1):\n",
    "                print(\"Job \",j,\" is partially done by machine\", i,\"thus: x[\",i,',',j,']=', pe.value(m.x[i,j]))\n",
    "            else:\n",
    "                print(\"Job \",j,\" is done by machine\", i,\"thus: x[\",i,',',j,']=', pe.value(m.x[i,j]))\n",
    "            "
   ]
  },
  {
   "cell_type": "code",
   "execution_count": null,
   "id": "3bec75d2-334b-4d1d-b933-cea7500c8798",
   "metadata": {},
   "outputs": [],
   "source": []
  }
 ],
 "metadata": {
  "kernelspec": {
   "display_name": "Python 3 (ipykernel)",
   "language": "python",
   "name": "python3"
  },
  "language_info": {
   "codemirror_mode": {
    "name": "ipython",
    "version": 3
   },
   "file_extension": ".py",
   "mimetype": "text/x-python",
   "name": "python",
   "nbconvert_exporter": "python",
   "pygments_lexer": "ipython3",
   "version": "3.11.7"
  }
 },
 "nbformat": 4,
 "nbformat_minor": 5
}
